{
 "cells": [
  {
   "cell_type": "code",
   "execution_count": null,
   "id": "5ecf1f92",
   "metadata": {
    "tags": []
   },
   "outputs": [],
   "source": [
    "#QUESTION-1\n",
    "\n",
    "a=int(input(\"enter a=\"))\n",
    "b=int(input(\"enter b=\"))\n",
    "c=int(input(\"enter c=\"))\n",
    "\n",
    "average= (a+b+c)/3\n",
    "\n",
    "print(f\"average={average}\")"
   ]
  },
  {
   "cell_type": "code",
   "execution_count": null,
   "id": "80fec6dc",
   "metadata": {},
   "outputs": [],
   "source": [
    "#QUESTION-2\n",
    "\n",
    "a=int(input(\"gross income=\"))\n",
    "\n",
    "\n",
    "if(a>10000):\n",
    "    b=int(input(\"number of dependents=\"))\n",
    "\n",
    "    taxable= a-(b*3000)-10000\n",
    "\n",
    "    print(\"taxable income=\",taxable)\n",
    "\n",
    "    tax=taxable*0.2\n",
    "\n",
    "    print(\"tax=\",tax)\n",
    "\n",
    "else:\n",
    "    print(\"no tax requied\")\n",
    "\n",
    "\n"
   ]
  },
  {
   "cell_type": "code",
   "execution_count": null,
   "id": "467e768c",
   "metadata": {},
   "outputs": [],
   "source": [
    "#QUESTION-3\n",
    "\n",
    "time= int(input(\"number of seconds=\"));\n",
    "minute=int(time/60);     #conversion of str to int\n",
    "sec=time%60;\n",
    "\n",
    "print(\"time is equal to\",minute,\"minutes and \",sec,\"seconds\");"
   ]
  },
  {
   "cell_type": "code",
   "execution_count": null,
   "id": "66a43445",
   "metadata": {},
   "outputs": [],
   "source": [
    "#QUESTION-4\n",
    "\n",
    "a=25+int('25')+25.0;\n",
    "b=str(a);    #explicit form \n",
    "\n",
    "print(b);"
   ]
  },
  {
   "cell_type": "code",
   "execution_count": null,
   "id": "1627fd4e",
   "metadata": {},
   "outputs": [],
   "source": [
    "#QUESTION-5\n",
    "\n",
    "import math   #importing maths library \n",
    "\n",
    "for i in range(0,350,+5):\n",
    "                           \n",
    "    a=round(math.sin(i),4)    #maths lib use\n",
    "    b=round(math.cos(i),4)\n",
    "    print(i,\"---\",a,\" \",b)"
   ]
  }
 ],
 "metadata": {
  "kernelspec": {
   "display_name": "base",
   "language": "python",
   "name": "python3"
  },
  "language_info": {
   "codemirror_mode": {
    "name": "ipython",
    "version": 3
   },
   "file_extension": ".py",
   "mimetype": "text/x-python",
   "name": "python",
   "nbconvert_exporter": "python",
   "pygments_lexer": "ipython3",
   "version": "3.9.13 (main, Aug 25 2022, 23:51:50) [MSC v.1916 64 bit (AMD64)]"
  },
  "vscode": {
   "interpreter": {
    "hash": "a2ab3825ac7005fb7b26f112e9c99ae62f464c629e30b0d534c3b931b6cbc3ff"
   }
  }
 },
 "nbformat": 4,
 "nbformat_minor": 5
}
