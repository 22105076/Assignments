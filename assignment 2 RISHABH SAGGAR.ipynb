{
 "cells": [
  {
   "cell_type": "code",
   "execution_count": null,
   "metadata": {},
   "outputs": [],
   "source": [
    "#Question-1\n",
    "\n",
    "# a)\n",
    "a=\"Python is a case sensitive language\"\n",
    "b=len(a)   #to find the length of whole string\n",
    "print(b)\n",
    "\n",
    "# b)\n",
    "c=\"\".join(reversed(a))  #to reverse the string\n",
    "print(c)\n",
    "\n",
    "# c)\n",
    "d=list(a)\n",
    "x=slice(10,26,1)  #to slice out some words or letters from a string\n",
    "e= \"\".join(d[x])  # to convert list to str \n",
    "print(e)\n",
    "\n",
    "# d)\n",
    "a1=a\n",
    "a2= a1.replace(\"a case sensitive\",\"object oriented\") #to replace a part of string with other\n",
    "print(a2)\n",
    "\n",
    "# e)\n",
    "f=d.index(\"a\")  #to find the index of any element of string \n",
    "print(f)\n",
    "\n",
    "# f)\n",
    "g=a.strip() #to remove white spaces from front and back of the main string\n",
    "print(g)\n",
    "\n",
    "h=a.replace(\" \",\"\") #to remove every space in the string\n",
    "print(h)"
   ]
  },
  {
   "cell_type": "code",
   "execution_count": null,
   "metadata": {},
   "outputs": [],
   "source": [
    "# Question-2\n",
    "\n",
    "name=\"Rishabh Saggar\"\n",
    "SID= 22105076\n",
    "department= \"ECE\"\n",
    "CGPA= 9.9\n",
    "\n",
    "print(f\"Hey,{name} Here! \\nMy SID is {SID} \\nI am from {department} department and my CGPA is {CGPA}\")"
   ]
  },
  {
   "cell_type": "code",
   "execution_count": null,
   "metadata": {},
   "outputs": [],
   "source": [
    "#Question-3\n",
    "\n",
    "# introducing Variables.\n",
    "a = 56\n",
    "b = 10\n",
    "\n",
    "# part(a)- finding a&b.\n",
    "print(\"the value of a&b is\",a&b)\n",
    "\n",
    "# part(b)- finding a|b.\n",
    "print(\"the value of a|b is\",a|b)\n",
    "\n",
    "# part(c)- finding a^b.\n",
    "print(\" the value of a^b is\",a^b)\n",
    "\n",
    "# part(d)- left shifting a and b with 2 bits.\n",
    "print(\"a<<2 =\",a<<2,\"b<<2 =\",b<<2)\n",
    "\n",
    "# part(e)- right shifting a with 2 bits and b with 4 bits.\n",
    "print(\"a>>2 =\",a>>2,\"b>>4 =\",b>>4)\n"
   ]
  },
  {
   "cell_type": "code",
   "execution_count": null,
   "metadata": {},
   "outputs": [],
   "source": [
    "#Question-4\n",
    "\n",
    "a=input(\"enter the first number=\")\n",
    "b=input(\"enter the second number=\")\n",
    "c=input(\"enter the third number=\")\n",
    "\n",
    "if(a>b):\n",
    "    if(a>c):\n",
    "        max=a\n",
    "    else:\n",
    "        max=c\n",
    "elif(b>c):\n",
    "        max=b\n",
    "else:\n",
    "        max=c    \n",
    "\n",
    "print(f\"maximum among three numbers={max}\")             \n",
    "            \n"
   ]
  },
  {
   "cell_type": "code",
   "execution_count": null,
   "metadata": {},
   "outputs": [],
   "source": [
    "#Question-5\n",
    "\n",
    "string= input(\"enter the string of your choice\")\n",
    "\n",
    "output=string.find(\"name\")       #find() is used to get the location of the given word in the string\n",
    "\n",
    "if(output>=0):            #the location of the word , if present, in the string lies from 0 to infinity \n",
    "    print(\"yes\")\n",
    "else:\n",
    "    print(\"no\")  \n"
   ]
  },
  {
   "cell_type": "code",
   "execution_count": null,
   "metadata": {},
   "outputs": [],
   "source": [
    "#Question-6\n",
    "\n",
    "x=int(input(\"enter the lengths of first side=\"))\n",
    "y=int(input(\"enter the length of second side=\"))\n",
    "z=int(input(\"enter the length of third side=\"))\n",
    "\n",
    "if( x>(y+z) or y>(x+z) or z>(x+y) ): \n",
    "    print(\"No\")\n",
    "else:\n",
    "    print(\"Yes\") \n",
    "\n",
    "\n"
   ]
  }
 ],
 "metadata": {
  "kernelspec": {
   "display_name": "base",
   "language": "python",
   "name": "python3"
  },
  "language_info": {
   "codemirror_mode": {
    "name": "ipython",
    "version": 3
   },
   "file_extension": ".py",
   "mimetype": "text/x-python",
   "name": "python",
   "nbconvert_exporter": "python",
   "pygments_lexer": "ipython3",
   "version": "3.9.13 (main, Aug 25 2022, 23:51:50) [MSC v.1916 64 bit (AMD64)]"
  },
  "orig_nbformat": 4,
  "vscode": {
   "interpreter": {
    "hash": "a2ab3825ac7005fb7b26f112e9c99ae62f464c629e30b0d534c3b931b6cbc3ff"
   }
  }
 },
 "nbformat": 4,
 "nbformat_minor": 2
}
